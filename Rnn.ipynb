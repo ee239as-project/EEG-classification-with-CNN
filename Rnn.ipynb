{
 "cells": [
  {
   "cell_type": "code",
   "execution_count": 8,
   "metadata": {},
   "outputs": [],
   "source": [
    "import numpy as np\n",
    "import torch\n",
    "from torch.autograd import Variable\n",
    "import torch.nn as nn\n",
    "import torch.optim  as optim\n",
    "import torch.utils.data"
   ]
  },
  {
   "cell_type": "code",
   "execution_count": 3,
   "metadata": {},
   "outputs": [],
   "source": [
    "X_test = np.load(\"X_test.npy\")\n",
    "y_test = np.load(\"y_test.npy\")\n",
    "person_train_valid = np.load(\"person_train_valid.npy\")\n",
    "X_train_valid = np.load(\"X_train_valid.npy\")\n",
    "y_train_valid = np.load(\"y_train_valid.npy\")\n",
    "person_test = np.load(\"person_test.npy\")\n"
   ]
  },
  {
   "cell_type": "code",
   "execution_count": 46,
   "metadata": {},
   "outputs": [],
   "source": [
    "Y_train = []\n",
    "for y in y_train_valid:\n",
    "    value = np.abs(769-y)\n",
    "    Y_train.append(value)\n",
    "Y_train = np.array(Y_train)\n",
    "\n",
    "Y_test = []\n",
    "for y in y_test:\n",
    "    value = np.abs(769-y)\n",
    "    Y_test.append(value)\n",
    "Y_test = np.array(Y_test)\n",
    "\n",
    "\n"
   ]
  },
  {
   "cell_type": "code",
   "execution_count": 47,
   "metadata": {},
   "outputs": [
    {
     "name": "stdout",
     "output_type": "stream",
     "text": [
      "(2115,)\n",
      "(2115,)\n",
      "(443,)\n",
      "(443,)\n"
     ]
    }
   ],
   "source": [
    "print(y_train_valid.shape)\n",
    "print(Y_train.shape)\n",
    "print(Y_test.shape)\n",
    "print(Y_test.shape)"
   ]
  },
  {
   "cell_type": "code",
   "execution_count": 48,
   "metadata": {},
   "outputs": [],
   "source": [
    "# create feature and targets tensor for train set.  we create tensor, then we will create variable\n",
    "featuresTrain = torch.from_numpy(X_train_valid)\n",
    "targetsTrain = torch.from_numpy(Y_train).type(torch.LongTensor) # data type is long\n",
    "\n",
    "# create feature and targets tensor for test set.\n",
    "featuresTest = torch.from_numpy(X_test)\n",
    "targetsTest = torch.from_numpy(Y_test).type(torch.LongTensor) # data type is long"
   ]
  },
  {
   "cell_type": "code",
   "execution_count": 49,
   "metadata": {},
   "outputs": [],
   "source": [
    "# batch_size, epoch and iteration\n",
    "batch_size = 100\n",
    "n_iters = 10000\n",
    "num_epochs = n_iters / (len(X_train_valid) / batch_size)\n",
    "num_epochs = int(num_epochs)\n",
    "\n",
    "# Pytorch train and test sets\n",
    "train = torch.utils.data.TensorDataset(featuresTrain,targetsTrain)\n",
    "test = torch.utils.data.TensorDataset(featuresTest,targetsTest)\n",
    "\n",
    "# data loader\n",
    "train_loader = torch.utils.data.DataLoader(train, batch_size = batch_size, shuffle = False)\n",
    "test_loader = torch.utils.data.DataLoader(test, batch_size = batch_size, shuffle = False)\n"
   ]
  },
  {
   "cell_type": "code",
   "execution_count": 50,
   "metadata": {},
   "outputs": [],
   "source": [
    "class RNNModel(nn.Module):\n",
    "    def __init__(self, input_dim, hidden_dim, layer_dim, output_dim):\n",
    "        super(RNNModel, self).__init__()\n",
    "        # Number of hidden dimensions\n",
    "        self.hidden_dim = hidden_dim\n",
    "        \n",
    "        # Number of hidden layers\n",
    "        self.layer_dim = layer_dim\n",
    "        \n",
    "        # RNN\n",
    "        self.rnn = nn.RNN(input_dim, hidden_dim, layer_dim, batch_first=True, \n",
    "                          nonlinearity='relu')\n",
    "        \n",
    "        # Readout layer\n",
    "        self.fc = nn.Linear(hidden_dim, output_dim)\n",
    "    \n",
    "    def forward(self, x):\n",
    "        # Initialize hidden state with zeros\n",
    "        h0 = Variable(torch.zeros(self.layer_dim, x.size(0), self.hidden_dim))\n",
    "            \n",
    "        # One time step\n",
    "        out, hn = self.rnn(x, h0)\n",
    "        out = self.fc(out[:, -1, :]) \n",
    "        return out\n"
   ]
  },
  {
   "cell_type": "code",
   "execution_count": null,
   "metadata": {},
   "outputs": [
    {
     "name": "stdout",
     "output_type": "stream",
     "text": [
      "Iteration: 10  Loss: 1.4654203653335571  Accuracy: 32 %\n",
      "Iteration: 20  Loss: 1.2775225639343262  Accuracy: 56 %\n",
      "Iteration: 30  Loss: 1.2581512928009033  Accuracy: 58 %\n",
      "Iteration: 40  Loss: 1.263122320175171  Accuracy: 58 %\n",
      "Iteration: 50  Loss: 1.2494319677352905  Accuracy: 61 %\n",
      "Iteration: 60  Loss: 0.4469497799873352  Accuracy: 59 %\n",
      "Iteration: 70  Loss: 0.7470794916152954  Accuracy: 60 %\n",
      "Iteration: 80  Loss: 0.44393637776374817  Accuracy: 62 %\n",
      "Iteration: 90  Loss: 0.6927947998046875  Accuracy: 59 %\n",
      "Iteration: 100  Loss: 0.3943200409412384  Accuracy: 54 %\n",
      "Iteration: 110  Loss: 0.061345577239990234  Accuracy: 56 %\n",
      "Iteration: 120  Loss: 0.3738337755203247  Accuracy: 55 %\n",
      "Iteration: 130  Loss: 0.6713888645172119  Accuracy: 58 %\n",
      "Iteration: 140  Loss: 0.47626158595085144  Accuracy: 56 %\n",
      "Iteration: 150  Loss: 0.3577721118927002  Accuracy: 58 %\n",
      "Iteration: 160  Loss: 0.1278609335422516  Accuracy: 58 %\n",
      "Iteration: 170  Loss: 0.014733051881194115  Accuracy: 57 %\n",
      "Iteration: 180  Loss: 0.12759162485599518  Accuracy: 61 %\n",
      "Iteration: 190  Loss: 0.13125216960906982  Accuracy: 59 %\n",
      "Iteration: 200  Loss: 0.4545586407184601  Accuracy: 57 %\n",
      "Iteration: 210  Loss: 0.053621042519807816  Accuracy: 56 %\n",
      "Iteration: 220  Loss: 0.023172123357653618  Accuracy: 58 %\n",
      "Iteration: 230  Loss: 0.2332647740840912  Accuracy: 59 %\n",
      "Iteration: 240  Loss: 0.1537885069847107  Accuracy: 59 %\n",
      "Iteration: 250  Loss: 0.09699811786413193  Accuracy: 57 %\n",
      "Iteration: 260  Loss: 0.03172735124826431  Accuracy: 58 %\n",
      "Iteration: 270  Loss: 0.02134128101170063  Accuracy: 59 %\n",
      "Iteration: 280  Loss: 0.004220280796289444  Accuracy: 59 %\n",
      "Iteration: 290  Loss: 0.004344000946730375  Accuracy: 60 %\n"
     ]
    }
   ],
   "source": [
    "\n",
    "# Create RNN\n",
    "dtype = torch.FloatTensor\n",
    "input_dim = 1000    # input dimension\n",
    "hidden_dim = 200  # hidden layer dimension\n",
    "layer_dim = 6     # number of hidden layers\n",
    "output_dim = 10   # output dimension\n",
    "\n",
    "model = RNNModel(input_dim, hidden_dim, layer_dim, output_dim)\n",
    "\n",
    "# Cross Entropy Loss \n",
    "error = nn.CrossEntropyLoss().type(dtype)\n",
    "\n",
    "\n",
    "# SGD Optimizer\n",
    "learning_rate = 0.05\n",
    "#optimizer = torch.optim.SGD(model.parameters(), lr=learning_rate)\n",
    "optimizer = torch.optim.Adam(model.parameters(), lr=0.001, betas=(0.9, 0.999), eps=1e-08, weight_decay=0, amsgrad=False)\n",
    "seq_dim = 25  \n",
    "loss_list = []\n",
    "iteration_list = []\n",
    "accuracy_list = []\n",
    "count = 0\n",
    "for epoch in range(num_epochs):\n",
    "    for i, (images, labels) in enumerate(train_loader):\n",
    "        train  = Variable(images.view(-1, seq_dim, input_dim))\n",
    "        labels = Variable(labels )\n",
    "            \n",
    "        # Clear gradients\n",
    "        optimizer.zero_grad()\n",
    "        \n",
    "        # Forward propagation\n",
    "        outputs = model(train.float())\n",
    "        \n",
    "        # Calculate softmax and ross entropy loss\n",
    "        loss = error(outputs, labels)\n",
    "        \n",
    "        # Calculating gradients\n",
    "        loss.backward()\n",
    "        \n",
    "        # Update parameters\n",
    "        optimizer.step()\n",
    "        \n",
    "        count += 1\n",
    "        \n",
    "        if count % 10 == 0:\n",
    "            # Calculate Accuracy         \n",
    "            correct = 0\n",
    "            total = 0\n",
    "            # Iterate through test dataset\n",
    "            for images, labels in test_loader:\n",
    "                images = Variable(images.view(-1, seq_dim, input_dim))\n",
    "                \n",
    "                # Forward propagation\n",
    "                outputs = model(images.float())\n",
    "                \n",
    "                # Get predictions from the maximum value\n",
    "                predicted = torch.max(outputs.data, 1)[1]\n",
    "                \n",
    "                # Total number of labels\n",
    "                total += labels.size(0)\n",
    "                \n",
    "                correct += (predicted == labels).sum()\n",
    "            \n",
    "            accuracy = 100 * correct / float(total)\n",
    "            \n",
    "            # store loss and iteration\n",
    "            loss_list.append(loss.data)\n",
    "            iteration_list.append(count)\n",
    "            accuracy_list.append(accuracy)\n",
    "            if count % 1 == 0:\n",
    "                # Print Loss\n",
    "                print('Iteration: {}  Loss: {}  Accuracy: {} %'.format(count, loss.data, accuracy))"
   ]
  },
  {
   "cell_type": "code",
   "execution_count": null,
   "metadata": {},
   "outputs": [],
   "source": []
  }
 ],
 "metadata": {
  "kernelspec": {
   "display_name": "Python 3",
   "language": "python",
   "name": "python3"
  },
  "language_info": {
   "codemirror_mode": {
    "name": "ipython",
    "version": 3
   },
   "file_extension": ".py",
   "mimetype": "text/x-python",
   "name": "python",
   "nbconvert_exporter": "python",
   "pygments_lexer": "ipython3",
   "version": "3.7.2"
  }
 },
 "nbformat": 4,
 "nbformat_minor": 2
}
